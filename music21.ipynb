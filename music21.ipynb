{
 "cells": [
  {
   "cell_type": "code",
   "execution_count": 82,
   "metadata": {},
   "outputs": [
    {
     "name": "stdout",
     "output_type": "stream",
     "text": [
      "The autoreload extension is already loaded. To reload it, use:\n",
      "  %reload_ext autoreload\n"
     ]
    },
    {
     "name": "stderr",
     "output_type": "stream",
     "text": [
      "[autoreload of MusicTreequence.MusicTreequence failed: Traceback (most recent call last):\n",
      "  File \"/usr/lib/python3.6/site-packages/IPython/extensions/autoreload.py\", line 247, in check\n",
      "    superreload(m, reload, self.old_objects)\n",
      "RecursionError: maximum recursion depth exceeded\n",
      "]\n"
     ]
    }
   ],
   "source": [
    "from MusicTreequence.MusicTreequence import *\n",
    "\n",
    "from IPython.display import display\n",
    "\n",
    "%matplotlib inline\n",
    "%load_ext autoreload\n",
    "%autoreload 2"
   ]
  },
  {
   "cell_type": "code",
   "execution_count": 4,
   "metadata": {},
   "outputs": [],
   "source": [
    "# from music21 import *\n",
    "# us = environment.UserSettings()\n",
    "# us.create()  # create config file\n",
    "# print(us.getSettingsPath())  # location of config file\n",
    "# us['musescoreDirectPNGPath'] = '/usr/bin/mscore'  # output of `which mscore`"
   ]
  },
  {
   "cell_type": "code",
   "execution_count": 52,
   "metadata": {},
   "outputs": [
    {
     "data": {
      "image/png": "[encoded data removed]",
      "text/plain": [
       "<music21.ipython21.objects.IPythonPNGObject at 0x7fedecd5fc18>"
      ]
     },
     "execution_count": 52,
     "metadata": {},
     "output_type": "execute_result"
    }
   ],
   "source": [
    "converter.parse(\"tinynotation: 3/4 CC#16 d8 f g16 a g f# 4/4 c4 d8 f g16 a g f#\").show()"
   ]
  },
  {
   "cell_type": "code",
   "execution_count": 95,
   "metadata": {},
   "outputs": [
    {
     "name": "stderr",
     "output_type": "stream",
     "text": [
      "[autoreload of MusicTreequence.MusicTreequence failed: Traceback (most recent call last):\n",
      "  File \"/usr/lib/python3.6/site-packages/IPython/extensions/autoreload.py\", line 247, in check\n",
      "    superreload(m, reload, self.old_objects)\n",
      "RecursionError: maximum recursion depth exceeded\n",
      "]\n",
      "DEBUG:root:SequenceEvent.generate()\n",
      "DEBUG:root:NoteEvent.generate() [c, 1/4]\n",
      "DEBUG:root:set_global_beat() [60bpm]\n",
      "DEBUG:root:NoteEvent.generate() [e, 1/2]\n",
      "DEBUG:root:NoteEvent.generate() [g, 1/2]\n",
      "DEBUG:root:RestEvent.generate() [1/4]\n",
      "DEBUG:root:NoteEvent.generate() [c#, 1/4]\n",
      "DEBUG:root:NoteEvent.generate() [d, 1/4]\n",
      "DEBUG:root:NoteEvent.generate() [d#, 1/4]\n",
      "DEBUG:root:NoteEvent.generate() [e, 1/4]\n",
      "DEBUG:root:NoteEvent.generate() [f, 1/4]\n",
      "DEBUG:root:NoteEvent.generate() [f#, 1/4]\n",
      "DEBUG:root:set_global_beat() [80bpm]\n",
      "DEBUG:root:NoteEvent.generate() [g, 1/4]\n",
      "DEBUG:root:NoteEvent.generate() [g#, 1/4]\n",
      "DEBUG:root:NoteEvent.generate() [a, 1/4]\n",
      "DEBUG:root:NoteEvent.generate() [a#, 1/4]\n",
      "DEBUG:root:NoteEvent.generate() [b, 1/4]\n",
      "DEBUG:root:NoteEvent.generate() [c, 1/4]\n"
     ]
    },
    {
     "name": "stdout",
     "output_type": "stream",
     "text": [
      "The autoreload extension is already loaded. To reload it, use:\n",
      "  %reload_ext autoreload\n",
      "# beat duration: 1000.0ms/60.0bpm\n",
      "play 48, attack: 0.01, decay: 0.25, sustain: 0.01, release: 0.01\n",
      "play 52, attack: 0.01, decay: 0.5, sustain: 0.01, release: 0.01\n",
      "play 55, attack: 0.01, decay: 0.5, sustain: 0.01, release: 0.01\n",
      "sleep 0.25\n",
      "play 49, attack: 0.01, decay: 0.25, sustain: 0.01, release: 0.01\n",
      "sleep 0.25\n",
      "play 50, attack: 0.01, decay: 0.25, sustain: 0.01, release: 0.01\n",
      "sleep 0.25\n",
      "play 51, attack: 0.01, decay: 0.25, sustain: 0.01, release: 0.01\n",
      "sleep 0.25\n",
      "play 52, attack: 0.01, decay: 0.25, sustain: 0.01, release: 0.01\n",
      "sleep 0.25\n",
      "play 53, attack: 0.01, decay: 0.25, sustain: 0.01, release: 0.01\n",
      "sleep 0.25\n",
      "# beat duration: 750.0ms/80.0bpm\n",
      "play 54, attack: 0.01, decay: 0.1875, sustain: 0.01, release: 0.01\n",
      "sleep 0.1875\n",
      "play 55, attack: 0.01, decay: 0.1875, sustain: 0.01, release: 0.01\n",
      "sleep 0.1875\n",
      "play 56, attack: 0.01, decay: 0.1875, sustain: 0.01, release: 0.01\n",
      "sleep 0.1875\n",
      "play 57, attack: 0.01, decay: 0.1875, sustain: 0.01, release: 0.01\n",
      "sleep 0.1875\n",
      "play 58, attack: 0.01, decay: 0.1875, sustain: 0.01, release: 0.01\n",
      "sleep 0.1875\n",
      "play 59, attack: 0.01, decay: 0.1875, sustain: 0.01, release: 0.01\n",
      "sleep 0.1875\n",
      "play 48, attack: 0.01, decay: 0.1875, sustain: 0.01, release: 0.01\n",
      "sleep 0.1875\n",
      "\n"
     ]
    }
   ],
   "source": [
    "from MusicTreequence.MusicTreequence import *\n",
    "\n",
    "from IPython.display import display\n",
    "\n",
    "%matplotlib inline\n",
    "%load_ext autoreload\n",
    "%autoreload 2\n",
    "\n",
    "Event.init()\n",
    "SequenceEvent([\n",
    "    NoteEvent(\"c\", \"1/4\", forward=False).set_beat(\"60bpm\"),\n",
    "    NoteEvent(\"e\", \"1/2\", forward=False),\n",
    "    NoteEvent(\"g\", \"1/2\", forward=False),\n",
    "    RestEvent(\"1/4\"),\n",
    "    NoteEvent(\"c#\", \"1/4\"),\n",
    "    NoteEvent(\"d\", \"1/4\"),\n",
    "    NoteEvent(\"d#\", \"1/4\"),\n",
    "    NoteEvent(\"e\", \"1/4\"),\n",
    "    NoteEvent(\"f\", \"1/4\"),\n",
    "    NoteEvent(\"f#\", \"1/4\").set_beat(\"80bpm\"),\n",
    "    NoteEvent(\"g\", \"1/4\"),\n",
    "    NoteEvent(\"g#\", \"1/4\"),\n",
    "    NoteEvent(\"a\", \"1/4\"),\n",
    "    NoteEvent(\"a#\", \"1/4\"),\n",
    "    NoteEvent(\"b\", \"1/4\"),\n",
    "    NoteEvent(\"c\", \"1/4\"),\n",
    "]).show(mode=GenMode.SONICPI)"
   ]
  }
 ],
 "metadata": {
  "kernelspec": {
   "display_name": "Python 3",
   "language": "python",
   "name": "python3"
  },
  "language_info": {
   "codemirror_mode": {
    "name": "ipython",
    "version": 3
   },
   "file_extension": ".py",
   "mimetype": "text/x-python",
   "name": "python",
   "nbconvert_exporter": "python",
   "pygments_lexer": "ipython3",
   "version": "3.6.1"
  }
 },
 "nbformat": 4,
 "nbformat_minor": 2
}
