{
 "cells": [
  {
   "cell_type": "markdown",
   "metadata": {},
   "source": [
    "This is a small tutorial that presents the different functionalities of the MusicTreequence library.\n",
    "\n",
    "First we have to load the library. The following lines of code load all functions and classes from the library into the global namespace (so we can use them without having to type 'MusicTrequence' all the time)."
   ]
  },
  {
   "cell_type": "code",
   "execution_count": 1,
   "metadata": {
    "collapsed": true
   },
   "outputs": [],
   "source": [
    "from MusicTreequence import *\n",
    "%load_ext autoreload\n",
    "%autoreload 2"
   ]
  },
  {
   "cell_type": "markdown",
   "metadata": {},
   "source": [
    "# A Simple Melody"
   ]
  },
  {
   "cell_type": "markdown",
   "metadata": {},
   "source": [
    "The simplest way to produce a couple of tones is to use the parse function of the Event class."
   ]
  },
  {
   "cell_type": "code",
   "execution_count": 2,
   "metadata": {},
   "outputs": [
    {
     "name": "stdout",
     "output_type": "stream",
     "text": [
      "# main function\n",
      "def song\n",
      "  play 55, attack: 0.01, decay: 1.0, sustain: 0.1, release: 0.1, amp: 1.0\n",
      "    sleep 1.0\n",
      "  play 55, attack: 0.01, decay: 1.0, sustain: 0.1, release: 0.1, amp: 1.0\n",
      "    sleep 1.0\n",
      "  play 55, attack: 0.01, decay: 1.0, sustain: 0.1, release: 0.1, amp: 1.0\n",
      "    sleep 1.0\n",
      "  play 51, attack: 0.01, decay: 1.0, sustain: 0.1, release: 0.1, amp: 1.0\n",
      "    sleep 1.0\n",
      "end\n",
      "\n",
      "# function for testing infinite loops\n",
      "def loop_test(key)\n",
      "  loops = [\n",
      "  ].to_set\n",
      "  return loops.include?(key)\n",
      "end\n",
      "\n",
      "# symbols\n",
      "\n",
      "\n"
     ]
    }
   ],
   "source": [
    "with write_song(file='song.rb', print_to_std_out=True):\n",
    "    fifth = Event.parse(\"g g g eb\")\n",
    "    fifth.write()"
   ]
  },
  {
   "cell_type": "markdown",
   "metadata": {},
   "source": [
    "This is what has been writen to the file 'song.rb'. Exectue the file 'main.rb' in Sonic Pi to listen to it. The main function called 'song' is called by Sonic Pi. The second and third part (the stuff with the loops and symbols) will become clear later. It has no function at the moment.\n",
    "\n",
    "The first line of code specifies where everything should be written. The 'file' parameter may contain a file name and the 'print_to_std_out' parameter specifies whether the generated Ruby code should be printed to standard output.\n",
    "\n",
    "The second line of code calls the 'parse' function of the Event class, which reads the given string and returns an event.\n",
    "\n",
    "The third line of code writes the event as Ruby code."
   ]
  },
  {
   "cell_type": "markdown",
   "metadata": {},
   "source": [
    "### Be more verbose"
   ]
  },
  {
   "cell_type": "markdown",
   "metadata": {},
   "source": [
    "We can be a bit more precise. This will also sound better."
   ]
  },
  {
   "cell_type": "code",
   "execution_count": 3,
   "metadata": {
    "collapsed": true
   },
   "outputs": [],
   "source": [
    "with write_song(file='song.rb'):\n",
    "    fifth = Event.parse(\"r/8 g./8 g./8 g./8 eb/4 b:snare/4\")\n",
    "    fifth.write()"
   ]
  },
  {
   "cell_type": "markdown",
   "metadata": {},
   "source": [
    "What happens behind the scenes is that the string is parsed as a sequence of events with specific properties. We could also directly specify this sequence."
   ]
  },
  {
   "cell_type": "code",
   "execution_count": 4,
   "metadata": {
    "collapsed": true
   },
   "outputs": [],
   "source": [
    "with write_song(file='song.rb'):\n",
    "    t = Tone(pitch='g', duration='1/8', staccato=True)\n",
    "    Sequence([\n",
    "        Rest(extent='1/8'),\n",
    "        t,\n",
    "        t,\n",
    "        t,\n",
    "        Tone(pitch='eb', duration='1/2')\n",
    "    ]).write()"
   ]
  },
  {
   "cell_type": "markdown",
   "metadata": {},
   "source": [
    "As you can see Rest and Tone are separate events, which are grouped in a Sequence event. If you look at the generated output you can see that it is identical to the one produced by the parse function. If you directly write out the Tone events you will find that the 'sleep' statements are missing. This is because a Tone on its own does not know what is happening before or after it. Always use one of these 'container' events to group elementary events."
   ]
  },
  {
   "cell_type": "markdown",
   "metadata": {},
   "source": [
    "# Elementary Events"
   ]
  },
  {
   "cell_type": "markdown",
   "metadata": {},
   "source": [
    "There are four elementary event: Chord, Tone, Beat, and Rest. Actually Tone, which we already used, is only a specialization of Chord."
   ]
  },
  {
   "cell_type": "code",
   "execution_count": 5,
   "metadata": {
    "collapsed": true
   },
   "outputs": [],
   "source": [
    "with write_song(file='song.rb'):\n",
    "    Sequence([\n",
    "        Chord(intervals=[0, 4, 7], base='eb', duration='1/4'),\n",
    "        Beat(extent='1/4', sound='tab'),\n",
    "        Beat(extent='1/4', sound='snare'),\n",
    "        Beat(extent='1/4', sound='kick'),\n",
    "        Beat(extent='1/4', sound='hh_c'),\n",
    "        Beat(extent='1/4', sound='hh_o'),\n",
    "        Rest(extent='1/4'),\n",
    "        Beat(extent='1/4', sound='ride'),\n",
    "    ]).write()"
   ]
  },
  {
   "cell_type": "markdown",
   "metadata": {},
   "source": [
    "# Container Events"
   ]
  },
  {
   "cell_type": "markdown",
   "metadata": {},
   "source": [
    "There are two container event. One is the Sequence event from above. The other one is the Parallel event, which does what its name suggests: It plays stuff simultaneously."
   ]
  },
  {
   "cell_type": "code",
   "execution_count": 6,
   "metadata": {
    "collapsed": true
   },
   "outputs": [],
   "source": [
    "with write_song(file='song.rb'):\n",
    "    Parallel([\n",
    "        Event.parse(\"r/8 bb./8 c'./8 d'./8 bb/2\"),\n",
    "        Event.parse(\"r/8 g./8 g./8 g./8 eb/2\")\n",
    "    ]).write()"
   ]
  },
  {
   "cell_type": "markdown",
   "metadata": {},
   "source": [
    "Additionally there is the Measure event that takes a list of events and fiddles around with their durations and amplitudes. It's a bit complicated but it can produce nice effects."
   ]
  },
  {
   "cell_type": "code",
   "execution_count": 7,
   "metadata": {
    "collapsed": true
   },
   "outputs": [],
   "source": [
    "with write_song(file='song.rb'):\n",
    "    tab = Beat(sound='tab')\n",
    "    Sequence([\n",
    "        Measure([tab] * 8, extent=4),\n",
    "        Rest('1/2'),\n",
    "        [Measure([tab, [tab, tab, tab], tab, [tab, tab, tab, tab]], extent=4)] * 2,\n",
    "        Rest('1/2'),\n",
    "        Measure(repack_list(list_to_repack=[tab] * 16, package_sizes=(2, 2, 2)), extent=4),\n",
    "    ]).write()"
   ]
  },
  {
   "cell_type": "markdown",
   "metadata": {},
   "source": [
    "# Special Events"
   ]
  },
  {
   "cell_type": "markdown",
   "metadata": {},
   "source": [
    "### Transposed"
   ]
  },
  {
   "cell_type": "markdown",
   "metadata": {},
   "source": [
    "You can transpose stuff"
   ]
  },
  {
   "cell_type": "code",
   "execution_count": 8,
   "metadata": {
    "collapsed": true
   },
   "outputs": [],
   "source": [
    "with write_song(file='song.rb'):\n",
    "    Event.set_beat(\"120bpm\")\n",
    "    fifth = Event.parse(\"r/8 g./8 g./8 g./8 eb/2\")\n",
    "    Sequence([\n",
    "        fifth,\n",
    "        Transposed(event=fifth, transpose=-2)\n",
    "    ]).write()"
   ]
  },
  {
   "cell_type": "markdown",
   "metadata": {},
   "source": [
    "The default is chromatic transposition but you can specify a scale for diatonic transposition."
   ]
  },
  {
   "cell_type": "code",
   "execution_count": 9,
   "metadata": {
    "collapsed": true
   },
   "outputs": [],
   "source": [
    "with write_song(file='song.rb'):\n",
    "    Event.set_beat(\"120bpm\")\n",
    "    fifth = Event.parse(\"r/8 g./8 g./8 g./8 eb/2\")\n",
    "    scale = TonicScale(pitches=[\"eb\", \"f\", \"g\", \"ab\", \"bb\", \"c\", \"d\"])\n",
    "    Sequence([\n",
    "        fifth,\n",
    "        Transposed(event=fifth, transpose=-1, scale=scale)\n",
    "    ]).write()"
   ]
  },
  {
   "cell_type": "markdown",
   "metadata": {},
   "source": [
    "**know bug:** in nested sequences transposition is not added correctly"
   ]
  },
  {
   "cell_type": "markdown",
   "metadata": {},
   "source": [
    "### Symbol"
   ]
  },
  {
   "cell_type": "markdown",
   "metadata": {},
   "source": [
    "Creating a symbol \"freezes\" the event in its current form. Any changes to the event itself or to the tempo will not affect a symbolic event. If you look at the generated Ruby code you will see that this is achieved by writing the event into a separate function at the time the symbol is created. A Symbol event simply calls this function."
   ]
  },
  {
   "cell_type": "code",
   "execution_count": 10,
   "metadata": {
    "collapsed": true
   },
   "outputs": [],
   "source": [
    "with write_song(file='song.rb'):\n",
    "    Event.set_beat(\"120bpm\")\n",
    "    c_maj_scale = Event.parse(\"c d e f g a b c'\")\n",
    "    c_maj_scale.create_symbol('freeze')\n",
    "    c_maj_scale.write()\n",
    "    Event.set_beat(\"180bpm\")\n",
    "    c_maj_scale._transpose = 1\n",
    "    c_maj_scale.write()\n",
    "    Symbol('freeze').write()"
   ]
  },
  {
   "cell_type": "markdown",
   "metadata": {},
   "source": [
    "### Loop"
   ]
  },
  {
   "cell_type": "markdown",
   "metadata": {},
   "source": [
    "Loops do what they are called."
   ]
  },
  {
   "cell_type": "code",
   "execution_count": 11,
   "metadata": {
    "collapsed": true
   },
   "outputs": [],
   "source": [
    "with write_song(file='song.rb'):\n",
    "    Event.set_beat(\"120bpm\")\n",
    "    Loop(Parallel([\n",
    "        Measure(repack_list([Beat(sound='kick')] * 4, (2,)), extent=4),\n",
    "        Measure(repack_list([Beat(sound='hh_c')] * 8, (2, 2)), extent=4),\n",
    "        Measure([Rest(1), Beat(sound='snare', amplitude=2)] * 2, extent=4)\n",
    "    ])).write()"
   ]
  },
  {
   "cell_type": "markdown",
   "metadata": {},
   "source": [
    "If you look at the generated Ruby code you will see that they are implemented via symbols that are called in a real loop. The nice part is that they stop once you redefine them, which is achieved by giving them a unique name that changes if you regenerate the code. By explicitly specifying a name you can prevent them from stopping even if you regenerate the code, which allows for actual live coding."
   ]
  },
  {
   "cell_type": "code",
   "execution_count": 12,
   "metadata": {
    "collapsed": true
   },
   "outputs": [],
   "source": [
    "with write_song(file='song.rb'):\n",
    "    Event.set_beat(\"120bpm\")\n",
    "    Parallel([\n",
    "        Measure(repack_list([Beat(sound='kick')] * 4, (2,)), extent=4),\n",
    "        Measure(repack_list([Beat(sound='hh_c')] * 8, (2, 2)), extent=4),\n",
    "        Measure([Rest(1), Beat(sound='snare', amplitude=2)] * 2, extent=4),\n",
    "    ], symbol='beat')\n",
    "    Loop(Symbol('beat'), symbol='loop').write()"
   ]
  },
  {
   "cell_type": "markdown",
   "metadata": {},
   "source": [
    "You can play around by commenting in/out the bass drum, high hat, or snare and regenerate the code. Note that you cannot actually change anything inside the Loop itself as it is written out as a symbol. However, if you use symbols the loop only calls the corresponding functions and these may change."
   ]
  },
  {
   "cell_type": "markdown",
   "metadata": {},
   "source": [
    "# Time Series Models"
   ]
  },
  {
   "cell_type": "markdown",
   "metadata": {},
   "source": [
    "### PitchDistribution, ScaleDistribution, PitchRange, TimeSeriesProduct"
   ]
  },
  {
   "cell_type": "code",
   "execution_count": 13,
   "metadata": {
    "collapsed": true
   },
   "outputs": [],
   "source": [
    "with write_song(file='song.rb'):\n",
    "    Event.set_beat(\"120bpm\")\n",
    "    pitchrange = PitchRange(60, 72)\n",
    "    scale_dist = ScaleDistribution(scale=TonicScale(pitches=[\"c\", \"d\", \"e\", \"f\", \"g\", \"a\", \"b\"]))\n",
    "    product = TimeSeriesProduct([pitchrange, scale_dist])\n",
    "    Parallel([\n",
    "        Measure([str(pitch) for pitch in [product.sample([]) for _ in range(16)]], extent=4),\n",
    "        Measure(repack_list([Beat(sound='kick')] * 4, (2,)), extent=4),\n",
    "        Measure(repack_list([Beat(sound='hh_c')] * 8, (2, 2)), extent=4),\n",
    "        Measure([Rest(1), Beat(sound='snare', amplitude=2)] * 2, extent=4),\n",
    "    ], symbol='groove')\n",
    "    Loop(Symbol('groove'), symbol='loop').write()"
   ]
  },
  {
   "cell_type": "markdown",
   "metadata": {},
   "source": [
    "### MarkovModel"
   ]
  },
  {
   "cell_type": "markdown",
   "metadata": {},
   "source": [
    "### Inference"
   ]
  },
  {
   "cell_type": "code",
   "execution_count": null,
   "metadata": {
    "collapsed": true
   },
   "outputs": [],
   "source": []
  }
 ],
 "metadata": {
  "kernelspec": {
   "display_name": "Python 3",
   "language": "python",
   "name": "python3"
  },
  "language_info": {
   "codemirror_mode": {
    "name": "ipython",
    "version": 3
   },
   "file_extension": ".py",
   "mimetype": "text/x-python",
   "name": "python",
   "nbconvert_exporter": "python",
   "pygments_lexer": "ipython3",
   "version": "3.6.2"
  }
 },
 "nbformat": 4,
 "nbformat_minor": 2
}
